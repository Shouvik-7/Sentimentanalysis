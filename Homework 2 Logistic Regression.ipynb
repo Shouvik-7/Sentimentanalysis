{
 "cells": [
  {
   "cell_type": "markdown",
   "metadata": {},
   "source": [
    "# Assignment 2: Sentiment Classification Using Logistic Regression"
   ]
  },
  {
   "cell_type": "markdown",
   "metadata": {},
   "source": [
    "## Programming Assignment (100 Points scaled to 40)"
   ]
  },
  {
   "cell_type": "markdown",
   "metadata": {},
   "source": [
    "For this assignment we will be implementing a naive bayes baseline classifier. Additionally, we will be using pytorch to implement a binary logistic regression classifier. Our task is sentiment classification for hotel reviews. The input to your model will be a text review, and the output label is a 1 or 0 marking it as positive or negative."
   ]
  },
  {
   "cell_type": "markdown",
   "metadata": {},
   "source": [
    "We have provided a util.py file for loading the data, and some of the basic modeling. Your task is to fill in the functions below in order to train as accurate a classifier as possible!\n",
    "\n",
    "We suggest browsing the util.py script first. Additionally, make sure to install dependencies from the provided requirements.txt file in a similar fashion to the pytorch tutorial. With your environment activated int he terminal, run:\n",
    "```\n",
    "pip install -r requirements.txt\n",
    "```"
   ]
  },
  {
   "cell_type": "code",
   "execution_count": null,
   "metadata": {},
   "outputs": [],
   "source": [
    "!pip install matplotlib"
   ]
  },
  {
   "cell_type": "code",
   "execution_count": 1,
   "metadata": {},
   "outputs": [],
   "source": [
    "from typing import List\n",
    "import spacy\n",
    "import torch\n",
    "import random\n",
    "import sklearn\n",
    "import matplotlib.pyplot as plt\n",
    "import numpy as np"
   ]
  },
  {
   "cell_type": "markdown",
   "metadata": {},
   "source": [
    "## Section 1: Sentiment Classification Dataset (Total: 20 Points)\n",
    "\n",
    "The training data for this task consists of a collection of short hotel reviews. The data is formatted as one review per line. Each line starts with a unique identifier for the review (as in ID-2001) followed by tab and the text of the review.  The reviews are not tokenized or sentence segmented in any way (the words are space separated). The positive reviews and negative reviews appear in separate files namely [hotelPosT-train.txt](data/hotelPosT-train.txt) and [hotelNegT-train.txt](data/hotelNegT-train.txt)."
   ]
  },
  {
   "cell_type": "code",
   "execution_count": 2,
   "metadata": {},
   "outputs": [],
   "source": [
    "from util import load_train_data\n",
    "pos_datapath = \"data/hotelPosT-train.txt\"\n",
    "neg_datapath = \"data/hotelNegT-train.txt\"\n",
    "all_texts, all_labels = load_train_data(pos_datapath, neg_datapath)"
   ]
  },
  {
   "cell_type": "markdown",
   "metadata": {},
   "source": [
    "### Lets look at what is in the data"
   ]
  },
  {
   "cell_type": "code",
   "execution_count": 3,
   "metadata": {},
   "outputs": [
    {
     "name": "stdout",
     "output_type": "stream",
     "text": [
      "--- Positive Example ---\n",
      "From the moment you walk in, you know the experience at the Westin is going to be a fantastic one. The staff behind the counter are friendly and the bellhop will take your bags to your room while you check in. Everyone is dressed nicely and act very professionally; something you expect from such a high quality hotel. The rooms are large with nice flat-screen televisions to watch while you're laying on a goose feather down comforter. The bathroom is equally as impressive with marble floors, a large back lit mirror and a walk in shower that has stone tile! The in house restaurant has a variety of delicious menu options to eat while you look out over the pool deck. Valet parking is available as well and can be called from your room so you don't have to wait! I loved this hotel and would recommend it to anyone seeking luxury and comfort during their stay.\n",
      "\n",
      "--- Negative Example ---\n",
      "When we reserved a reservation at La Quinta Hotel in Ft. Lauderdale, FL, we expected a decent nights sleep at a fairly decent price. We have stayed at La Quinta before and were always satisfied. This particular hotel is not what we expected. It is run down and dirty in the rooms. Also the noise level was a constant all night with the parties going on in numerous rooms around ours. I wouldn't recommend this to my enemy!\n"
     ]
    }
   ],
   "source": [
    "def random_sample(texts, labels, label):\n",
    "    data_by_label = {}\n",
    "    for lab, text in zip(labels, texts):\n",
    "        if lab not in data_by_label:\n",
    "            data_by_label[lab] = []\n",
    "        data_by_label[lab].append(text)\n",
    "    return random.choice(data_by_label[label])\n",
    "\n",
    "print(\"--- Positive Example ---\")\n",
    "print(random_sample(all_texts, all_labels, label=1))\n",
    "print(\"\\n--- Negative Example ---\")\n",
    "print(random_sample(all_texts, all_labels, label=0))"
   ]
  },
  {
   "cell_type": "markdown",
   "metadata": {},
   "source": [
    "### Test Data ( WAIT TILL DEADLINE)\n",
    "\n",
    "This is the test dataset that you will need to use to report the results on. This set is the unseen dataset meaning, you are not in anyway supoose to look what is in this dataset. We will release this dataset on the last day of the assignment's deadline."
   ]
  },
  {
   "cell_type": "code",
   "execution_count": 4,
   "metadata": {},
   "outputs": [
    {
     "ename": "TypeError",
     "evalue": "load_train_data() missing 1 required positional argument: 'negative_filepath'",
     "output_type": "error",
     "traceback": [
      "\u001b[1;31m---------------------------------------------------------------------------\u001b[0m",
      "\u001b[1;31mTypeError\u001b[0m                                 Traceback (most recent call last)",
      "Cell \u001b[1;32mIn[4], line 8\u001b[0m\n\u001b[0;32m      6\u001b[0m \u001b[38;5;66;03m# FIXME\u001b[39;00m\n\u001b[0;32m      7\u001b[0m test_datapath \u001b[38;5;241m=\u001b[39m \u001b[38;5;124m\"\u001b[39m\u001b[38;5;124mdata/test-dataset.txt\u001b[39m\u001b[38;5;124m\"\u001b[39m\n\u001b[1;32m----> 8\u001b[0m test_texts, test_labels \u001b[38;5;241m=\u001b[39m \u001b[43mload_train_data\u001b[49m\u001b[43m(\u001b[49m\u001b[43mtest_datapath\u001b[49m\u001b[43m)\u001b[49m\n",
      "\u001b[1;31mTypeError\u001b[0m: load_train_data() missing 1 required positional argument: 'negative_filepath'"
     ]
    }
   ],
   "source": [
    "### RUN THIS ONLY ON DEADLINE ###\n",
    "# Load the test data\n",
    "\n",
    "from util import load_test_data\n",
    "\n",
    "# FIXME\n",
    "test_datapath = \"data/test-dataset.txt\"\n",
    "test_texts, test_labels = load_train_data(test_datapath)"
   ]
  },
  {
   "cell_type": "markdown",
   "metadata": {},
   "source": [
    "### Task 1.1: Print the number of \"positive\" and \"negative\" samples (5 Points)"
   ]
  },
  {
   "cell_type": "markdown",
   "metadata": {},
   "source": [
    "It is important to know the distribution of the training examples. More often than not, you will have to work with datasets that are not \"balanced\" with respect to the labels of the samples. For this task, print out the number of examples that have label = 1 and label = 0, respectively, in std:out or plot a pie chart."
   ]
  },
  {
   "cell_type": "code",
   "execution_count": 12,
   "metadata": {
    "scrolled": true
   },
   "outputs": [
    {
     "name": "stdout",
     "output_type": "stream",
     "text": [
      "ones:95\n",
      "zeros:94\n"
     ]
    },
    {
     "data": {
      "image/png": "[encoded data removed]",
      "text/plain": [
       "<Figure size 640x480 with 1 Axes>"
      ]
     },
     "metadata": {},
     "output_type": "display_data"
    }
   ],
   "source": [
    "### ENTER CODE HERE ###\n",
    "\n",
    "# Note since we have them in two seperate files, \n",
    "# this can also be done with bash commands\n",
    "def label_distribution(labels):\n",
    "    \"\"\"\n",
    "    TODO: Replace the line `raise NotImplementedError` with your code\n",
    "    to print the labels distribution.\n",
    "    \"\"\"\n",
    "    #raise NotImplementedError\n",
    "    count1s = 0\n",
    "    count0s = 0\n",
    "    for i in labels:\n",
    "        if i == 1:\n",
    "            count1s +=1\n",
    "        else:\n",
    "            count0s +=1\n",
    "    print(f'ones:{count1s}')\n",
    "    print(f'zeros:{count0s}')\n",
    "    plt.pie([count1s, count0s], labels=['ones','zeros'], autopct=str)\n",
    "    plt.show()\n",
    "label_distribution(all_labels)"
   ]
  },
  {
   "cell_type": "markdown",
   "metadata": {},
   "source": [
    "### Task 1.2: Split Training and Development Sets (5 Points)"
   ]
  },
  {
   "cell_type": "markdown",
   "metadata": {},
   "source": [
    "For the purpose of coming with the best parameters for the model you will have to split the dataset into training and development sets. Make sure the splits follow the same distribution."
   ]
  },
  {
   "cell_type": "code",
   "execution_count": 13,
   "metadata": {},
   "outputs": [
    {
     "name": "stdout",
     "output_type": "stream",
     "text": [
      "Train Label Distribution:\n",
      "ones:76\n",
      "zeros:75\n"
     ]
    },
    {
     "data": {
      "image/png": "[encoded data removed]",
      "text/plain": [
       "<Figure size 640x480 with 1 Axes>"
      ]
     },
     "metadata": {},
     "output_type": "display_data"
    },
    {
     "name": "stdout",
     "output_type": "stream",
     "text": [
      "Dev Label Distribution:\n",
      "ones:19\n",
      "zeros:19\n"
     ]
    },
    {
     "data": {
      "image/png": "[encoded data removed]",
      "text/plain": [
       "<Figure size 640x480 with 1 Axes>"
      ]
     },
     "metadata": {},
     "output_type": "display_data"
    }
   ],
   "source": [
    "### ENTER CODE HERE ###\n",
    "\n",
    "def split_dataset(texts, labels):\n",
    "    \"\"\"\n",
    "    Split the dataset randomly into 80% training and 20% development set\n",
    "    Make sure the splits have the same label distribution\n",
    "    \"\"\"\n",
    "    split_pct = 0.8\n",
    "    dataset = list(zip(all_texts, labels))\n",
    "    np.random.shuffle(dataset)\n",
    "    split_index = int(len(dataset) * split_pct)\n",
    "    train_data = dataset[:split_index]\n",
    "    test_data = dataset[split_index:]\n",
    "    train_texts, train_labels = zip(*train_data)\n",
    "    dev_texts, dev_labels = zip(*test_data)\n",
    "    return train_texts, train_labels, dev_texts, dev_labels\n",
    "\n",
    "train_texts, train_labels, dev_texts, dev_labels = split_dataset(all_texts, all_labels)\n",
    "\n",
    "print('Train Label Distribution:')\n",
    "label_distribution(train_labels)\n",
    "\n",
    "print('Dev Label Distribution:')\n",
    "label_distribution(dev_labels)"
   ]
  },
  {
   "cell_type": "markdown",
   "metadata": {},
   "source": [
    "### Task 1.3: Evaluation Metrics (10 Points)\n",
    "\n",
    "Implement the evaulation metrics: Accuracy, Precision, Recall and F1 score"
   ]
  },
  {
   "cell_type": "code",
   "execution_count": 24,
   "metadata": {},
   "outputs": [],
   "source": [
    "### ENTER CODE HERE ###\n",
    "\n",
    "def accuracy(predicted_labels, true_labels):\n",
    "    \"\"\"\n",
    "    Accuracy is correct predictions / all predicitons\n",
    "    \n",
    "    \"\"\"\n",
    "    if len(predicted_labels)!=len(true_labels):\n",
    "        return 'Array size mismatch'\n",
    "    pl = np.array(predicted_labels)\n",
    "    tl = np.array(true_labels)\n",
    "    return sum(pl == tl)/len(pl)\n",
    "\n",
    "def precision(predicted_labels, true_labels):\n",
    "    \"\"\"\n",
    "    Precision is True Positives / All Positives Predictions\n",
    "    \"\"\"\n",
    "    if len(predicted_labels)!=len(true_labels):\n",
    "        return 'Array size mismatch'\n",
    "    pl = np.array(predicted_labels)\n",
    "    tl = np.array(true_labels)\n",
    "    true_positives = sum((tl == 1) & (pl == 1))\n",
    "    false_positives = sum((tl == 0) & (pl == 1))\n",
    "    return true_positives / (true_positives + false_positives) \n",
    "\n",
    "def recall(predicted_labels, true_labels):\n",
    "    \"\"\"\n",
    "    Recall is True Positives / All Positive Labels\n",
    "    \"\"\"\n",
    "    if len(predicted_labels)!=len(true_labels):\n",
    "        return 'Array size mismatch'\n",
    "    pl = np.array(predicted_labels)\n",
    "    tl = np.array(true_labels)\n",
    "    true_positives = sum((tl == 1) & (pl == 1))\n",
    "    false_negatives = sum((tl == 1) & (pl == 0))\n",
    "    return true_positives / (true_positives + false_negatives) \n",
    "\n",
    "def f1_score(predicted_labels, true_labels):\n",
    "    \"\"\"\n",
    "    F1 score is the harmonic mean of precision and recall\n",
    "    \"\"\" \n",
    "    precisionscore = precision(predicted_labels, true_labels)\n",
    "    recallscore = recall(predicted_labels, true_labels)\n",
    "    return 2*precisionscore*recallscore/(precisionscore + recallscore)"
   ]
  },
  {
   "cell_type": "code",
   "execution_count": 25,
   "metadata": {},
   "outputs": [
    {
     "name": "stdout",
     "output_type": "stream",
     "text": [
      "All Test Cases Passed!\n"
     ]
    }
   ],
   "source": [
    "### DO NOT EDIT ###\n",
    "\n",
    "em_test_labels = [0]*6 + [1]*4\n",
    "em_test_predictions = [0]*8 + [1]*2\n",
    "\n",
    "em_test_accuracy = 0.8\n",
    "em_test_precision = 1.0\n",
    "em_test_recall = 0.5\n",
    "em_test_f1 = 2/3\n",
    "\n",
    "assert accuracy(em_test_predictions, em_test_labels) == em_test_accuracy\n",
    "assert precision(em_test_predictions, em_test_labels) == em_test_precision \n",
    "assert recall(em_test_predictions, em_test_labels) == em_test_recall\n",
    "assert f1_score(em_test_predictions, em_test_labels) == em_test_f1\n",
    "\n",
    "print('All Test Cases Passed!')"
   ]
  },
  {
   "cell_type": "markdown",
   "metadata": {},
   "source": [
    "## Section 2: Baselines (Total: 20 Points)"
   ]
  },
  {
   "cell_type": "markdown",
   "metadata": {},
   "source": [
    "It is important to come up with baselines for the classifications to compare the more complicated models with. The baselines are also useful as a debugging method for your actual classfication model. You will create two baselines:\n",
    "\n",
    "1. Random Chance\n",
    "2. Naive Bayes Classifier"
   ]
  },
  {
   "cell_type": "markdown",
   "metadata": {},
   "source": [
    "### Task 2.1: Random Chance Classifier (5 Points)\n",
    "\n",
    "A random chance classifier predicts the label according to the label's distribution. As an example, if the label 1 appears 70% of the times in the training set, you predict 70 out of 100 times the label 1 and label 0 30% of the times"
   ]
  },
  {
   "cell_type": "code",
   "execution_count": null,
   "metadata": {},
   "outputs": [],
   "source": [
    "### ENTER CODE HERE ###\n",
    "\n",
    "def predict_random(train_labels, num_samples):\n",
    "    \"\"\"\n",
    "    Using the label distribution, predict the label num_sample number of times\n",
    "    \"\"\"\n",
    "    from random import sample\n",
    "    \n",
    "    "
   ]
  },
  {
   "cell_type": "markdown",
   "metadata": {},
   "source": [
    "### Task 2.2: Naive Bayes Classifier (Total: 10 Points)\n",
    "\n",
    "In the class, Jim went over how to implement a Naive Bayes Classifier using the tokens in the training samples.\n",
    "In this task, you will do the same. As a preprocessing step, you might want to remove the stop words and lemmatize/stem the words of the texts. "
   ]
  },
  {
   "cell_type": "markdown",
   "metadata": {},
   "source": [
    "### Spacy Model https://spacy.io\n",
    "\n",
    "To tokenize the text and help extract features from text, we will use the popular spaCy model"
   ]
  },
  {
   "cell_type": "code",
   "execution_count": null,
   "metadata": {},
   "outputs": [],
   "source": [
    "### DO NOT EDIT ###\n",
    "\n",
    "# Initialize the spacy model\n",
    "nlp = spacy.load('en_core_web_sm')"
   ]
  },
  {
   "cell_type": "markdown",
   "metadata": {},
   "source": [
    "### Task 2.2.1: Play around with spacy (0 Points)"
   ]
  },
  {
   "cell_type": "code",
   "execution_count": null,
   "metadata": {},
   "outputs": [],
   "source": [
    "### ENTER CODE HERE ###\n",
    "\n",
    "test_string = \"This is an amazing sentence\"\n",
    "\n",
    "# parse the string with spacy model\n",
    "test_doc = nlp(test_string)\n",
    "\n",
    "print('Token', 'Lemma', 'Is_Stopword?')\n",
    "for token in test_doc:\n",
    "    print(token, token.lemma_, token.is_stop)"
   ]
  },
  {
   "cell_type": "markdown",
   "metadata": {},
   "source": [
    "### Task 2.2.2: Preprocessing (5 Points)\n",
    "\n",
    "Remove stopwords and lemmatize the words of a text"
   ]
  },
  {
   "cell_type": "code",
   "execution_count": null,
   "metadata": {},
   "outputs": [],
   "source": [
    "### ENTER CODE HERE ###\n",
    "\n",
    "def pre_process(text: str) -> List[str]:\n",
    "    \"\"\"\n",
    "    remove stopwords and lemmatize and return an array of lemmas\n",
    "    \"\"\"\n",
    "    raise NotImplementedError\n",
    "    \n",
    "test_string = \"This sentence needs to be lemmatized\"\n",
    "\n",
    "assert len({'sentence', 'need', 'lemmatize', 'lemmatiz'}.intersection(pre_process(test_string))) >= 3\n",
    "\n",
    "print('All Test Cases Passed!')"
   ]
  },
  {
   "cell_type": "markdown",
   "metadata": {},
   "source": [
    "### Task 2.2.3: The Naive Bayes Class (5 Points)\n",
    "\n",
    "The standard way of implementing classifiers like Naive Bayes is to implement the two methods: \"fit\" and \"predict\". The fit method expects the training data along with labels, and the predict method predicts the labels for the provides texts of samples."
   ]
  },
  {
   "cell_type": "code",
   "execution_count": null,
   "metadata": {},
   "outputs": [],
   "source": [
    "### ENTER CODE HERE ###\n",
    "\n",
    "class NaiveBayesClassifier:\n",
    "    def __init__(self, num_classes):\n",
    "        self.num_classes = num_classes\n",
    "        self.label_word_counter = {}\n",
    "        self.label_words_count = {}\n",
    "    \n",
    "    def fit(self, texts, labels):\n",
    "        \"\"\"\n",
    "        1. Group samples by their labels\n",
    "        2. Preprocess each text\n",
    "        3. Count the words of the text for each label\n",
    "        \"\"\"\n",
    "        raise NotImplementedError\n",
    "    \n",
    "    def predict(self, texts):\n",
    "        \"\"\"\n",
    "        1. Preprocess the texts\n",
    "        2. Predict the class by using the likelihood with Bayes Method and Laplace Smoothing\n",
    "        \"\"\"\n",
    "        raise NotImplementedError"
   ]
  },
  {
   "cell_type": "markdown",
   "metadata": {},
   "source": [
    "### Task 2.3: Baseline Results  (5 Points)"
   ]
  },
  {
   "cell_type": "markdown",
   "metadata": {},
   "source": [
    "Since there is not hyperparameter-tuing required for the baselines, we can use the entirety of the training set (no need to split the dataset into train and development). Report the results you achieve with the two baselines by running the following cell:"
   ]
  },
  {
   "cell_type": "code",
   "execution_count": null,
   "metadata": {},
   "outputs": [],
   "source": [
    "### DO NOT EDIT ###\n",
    "\n",
    "### DEV SET RESULTS\n",
    "\n",
    "testset_prediction_random = predict_random(train_labels, num_samples=len(dev_labels))\n",
    "print('Random Chance F1:', f1_score(testset_prediction_random, dev_labels))\n",
    "\n",
    "naive_bayes_classifier = NaiveBayesClassifier(num_classes=2)\n",
    "naive_bayes_classifier.fit(train_texts, train_labels)\n",
    "testset_predictions_nb = naive_bayes_classifier.predict(dev_texts)\n",
    "print('Naive Bayes F1:', f1_score(testset_predictions_nb, dev_labels))"
   ]
  },
  {
   "cell_type": "code",
   "execution_count": null,
   "metadata": {},
   "outputs": [],
   "source": [
    "### DO NOT EDIT ###\n",
    "### RUN THIS ONLY ON DEADLINE ###\n",
    "### TEST SET RESULTS\n",
    "\n",
    "testset_prediction_random = predict_random(all_labels, num_samples=len(test_labels))\n",
    "print('Random Chance F1:', f1_score(testset_prediction_random, test_labels))\n",
    "\n",
    "naive_bayes_classifier = NaiveBayesClassifier(num_classes=2)\n",
    "naive_bayes_classifier.fit(all_texts, all_labels)\n",
    "testset_predictions_nb = naive_bayes_classifier.predict(test_texts)\n",
    "print('Naive Bayes F1:', f1_score(testset_predictions_nb, test_labels))"
   ]
  },
  {
   "cell_type": "markdown",
   "metadata": {},
   "source": [
    "## Section 3: Logistic Regression on Features (Total: 60 Points)\n",
    "\n",
    "Now let's try building a logistic regression based classifier on hand-engineered features.\n",
    "\n",
    "The following tasks are going to be the implementation of the components required in building a Logistic Regressor."
   ]
  },
  {
   "attachments": {
    "image.png": {
     "image/png": "[encoded data removed]"
    }
   },
   "cell_type": "markdown",
   "metadata": {},
   "source": [
    "### Task 3.0: Feature Extraction (20 points)\n",
    "\n",
    "This is perhaps the most challenging part of this assignment. In the class, we went over how to featurize text for a classification system for sentiment analysis. In this assignment, you should implement and build upon this to accuractely classify the hotel reviews.\n",
    "\n",
    "This task requires a thorough understanding of the dataset to answer the important question, \"What is in the data?\". Please go through some of the datapoints and convert the signals that you think might help in identifying \"sentiment\" as features.\n",
    "\n",
    "Please refer to the section in Jim's book that illustrates the process of feature engineering for this task. We have attached an image of the table below:\n",
    "\n",
    "![image.png](attachment:image.png)\n",
    "\n",
    "Please use the files with postive and negative words attached in the assignment: [positive_words.txt](data/poisitive-words.txt) and  [negative_words.txt](data/negative-words.txt)"
   ]
  },
  {
   "cell_type": "code",
   "execution_count": null,
   "metadata": {},
   "outputs": [],
   "source": [
    "def make_test_feature(text: spacy.tokens.doc.Doc):\n",
    "    return \"happy\" in [t.lemma_ for t in text]\n",
    "\n",
    "\n",
    "def extract_features(text: spacy.tokens.doc.Doc):\n",
    "    features = []\n",
    "    # TODO: Replace this with your own feature extraction functions.\n",
    "    features.append(make_test_feature(text))\n",
    "    # TODO: add more features to the feature vector\n",
    "    \n",
    "    return features"
   ]
  },
  {
   "cell_type": "code",
   "execution_count": null,
   "metadata": {},
   "outputs": [],
   "source": [
    "### ENTER CODE HERE ###\n",
    "### DO NOT CHANGE THE SIGNATURE OF THE function THOUGH ###\n",
    "\n",
    "def featurize_data(texts, labels):\n",
    "    features = [\n",
    "        extract_features(doc) for doc in nlp.pipe(texts)\n",
    "    ]\n",
    "    return torch.FloatTensor(features), torch.FloatTensor(labels)"
   ]
  },
  {
   "attachments": {
    "image.png": {
     "image/png": "[encoded data removed]"
    }
   },
   "cell_type": "markdown",
   "metadata": {},
   "source": [
    "### Task 3.0.2: Feature Scaling (10 Points)\n",
    "\n",
    "In this task we will use the data normalization technique to ensure the scales of the feature are consistent.\n",
    "After featurizing the dataset, we need to call the following function before passing it to the classifier\n",
    "\n",
    "#### Normalization Formula\n",
    "\n",
    "![image.png](attachment:image.png)"
   ]
  },
  {
   "cell_type": "code",
   "execution_count": null,
   "metadata": {},
   "outputs": [],
   "source": [
    "### ENTER CODE HERE ###\n",
    "\n",
    "def normalize(features: torch.Tensor) -> torch.Tensor:\n",
    "    \"\"\"\n",
    "    return the features transformed by the above formula of normalization\n",
    "    \"\"\"\n",
    "    raise NotImplementedError"
   ]
  },
  {
   "cell_type": "markdown",
   "metadata": {},
   "source": [
    "## Training a Logistic Regression Classifier (Total: 30 Points)"
   ]
  },
  {
   "cell_type": "markdown",
   "metadata": {},
   "source": [
    "In this section, you will implement the components needed to train the binary classifier using logistic regression"
   ]
  },
  {
   "cell_type": "markdown",
   "metadata": {},
   "source": [
    "### Here we define our pytorch logistic regression classifier (DO NOT EDIT THIS)"
   ]
  },
  {
   "cell_type": "code",
   "execution_count": null,
   "metadata": {},
   "outputs": [],
   "source": [
    "class SentimentClassifier(torch.nn.Module):\n",
    "    def __init__(self, input_dim: int):\n",
    "        super().__init__()\n",
    "        # We force output to be one, since we are doing binary logistic regression\n",
    "        self.output_size = 1\n",
    "        self.coefficients = torch.nn.Linear(input_dim, self.output_size)\n",
    "        # Initialize weights. Note that this is not strictly necessary,\n",
    "        # but you should test different initializations per lecture\n",
    "        initialize_weights(self.coefficients)\n",
    "        \n",
    "    def forward(self, features: torch.Tensor):\n",
    "        # We predict a number by multipling by the coefficients\n",
    "        # and then take the sigmoid to turn the score as logits\n",
    "        return torch.sigmoid(self.coefficients(features))"
   ]
  },
  {
   "cell_type": "markdown",
   "metadata": {},
   "source": [
    "### Task 3.1: Initialize the weights. (5 Points)\n",
    "\n",
    "Initialization of the parameters is an important step to ensure the SGD algorithm converges to a global optimum. Typically, we need to try different initialization methods and compare the accuracy we achieve for the development set. In this task, implement the function that initializes the parameters to ..."
   ]
  },
  {
   "cell_type": "code",
   "execution_count": null,
   "metadata": {},
   "outputs": [],
   "source": [
    "### ENTER CODE HERE ###\n",
    "\n",
    "def initialize_weights(coefficients):\n",
    "    \"\"\"\n",
    "    TODO: Replace the line `raise NotImplementedError` with your code.\n",
    "    Initialize the weights of the coefficients by assigning the parameter\n",
    "    coefficients.weights.data = ...\n",
    "    \"\"\"\n",
    "    raise NotImplementedError"
   ]
  },
  {
   "cell_type": "markdown",
   "metadata": {},
   "source": [
    "Let's build a training function similar to the linear regressor from the tutorial"
   ]
  },
  {
   "cell_type": "markdown",
   "metadata": {},
   "source": [
    "### Task 3.2: Logistic Loss Function (10 Points)"
   ]
  },
  {
   "cell_type": "code",
   "execution_count": null,
   "metadata": {},
   "outputs": [],
   "source": [
    "### ENTER CODE HERE ###\n",
    "\n",
    "def logistic_loss(prediction: torch.Tensor, label: torch.Tensor) -> torch.Tensor:\n",
    "    \"\"\"\n",
    "    TODO: Implement the logistic loss function between a prediction and label.\n",
    "    \"\"\"\n",
    "    raise NotImplementedError"
   ]
  },
  {
   "cell_type": "markdown",
   "metadata": {},
   "source": [
    "### Task 3.3: Create an SGD optimizer (0 Points)\n",
    "\n",
    "We have already provided the implementation of how to create the SGD optimizer\n",
    "\n",
    "You may try different optimizers refering to the docs provided"
   ]
  },
  {
   "cell_type": "code",
   "execution_count": null,
   "metadata": {},
   "outputs": [],
   "source": [
    "### ENTER CODE HERE ###\n",
    "\n",
    "def make_optimizer(model, learning_rate) -> torch.optim:\n",
    "    \"\"\"\n",
    "    Returns an Stocastic Gradient Descent Optimizer\n",
    "    See here for algorithms you can import: https://pytorch.org/docs/stable/optim.html\n",
    "    \"\"\"\n",
    "    return torch.optim.SGD(model.parameters(), learning_rate)"
   ]
  },
  {
   "cell_type": "markdown",
   "metadata": {},
   "source": [
    "### Task 3.5: Converting Logits into Predictions (5 Points)"
   ]
  },
  {
   "cell_type": "code",
   "execution_count": null,
   "metadata": {},
   "outputs": [],
   "source": [
    "### ENTER CODE HERE ###\n",
    "\n",
    "def predict(model, features):\n",
    "    with torch.no_grad():\n",
    "        \"\"\"\n",
    "        TODO: Replace the line `raise NotImplementedError`\n",
    "        with the logic of converting the logits into prediction labels (0, 1)\n",
    "        \"\"\"\n",
    "        logits = model(features)\n",
    "        raise NotImplementedError"
   ]
  },
  {
   "cell_type": "markdown",
   "metadata": {},
   "source": [
    "### Training Function (DO NOT EDIT THIS)"
   ]
  },
  {
   "cell_type": "code",
   "execution_count": null,
   "metadata": {},
   "outputs": [],
   "source": [
    "### DO NOT EDIT ###\n",
    "\n",
    "from tqdm.autonotebook import tqdm\n",
    "import random\n",
    "\n",
    "\n",
    "def training_loop(\n",
    "    num_epochs,\n",
    "    batch_size,\n",
    "    train_features,\n",
    "    train_labels,\n",
    "    dev_features,\n",
    "    dev_labels,\n",
    "    optimizer,\n",
    "    model\n",
    "):\n",
    "    samples = list(zip(train_features, train_labels))\n",
    "    random.shuffle(samples)\n",
    "    batches = []\n",
    "    for i in range(0, len(samples), batch_size):\n",
    "        batches.append(samples[i:i+batch_size])\n",
    "    print(\"Training...\")\n",
    "    for i in range(num_epochs):\n",
    "        losses = []\n",
    "        for batch in tqdm(batches):\n",
    "            # Empty the dynamic computation graph\n",
    "            features, labels = zip(*batch)\n",
    "            features = torch.stack(features)\n",
    "            labels = torch.stack(labels)\n",
    "            optimizer.zero_grad()\n",
    "            # Run the model\n",
    "            logits = model(features)\n",
    "            # Compute loss\n",
    "            loss = logistic_loss(torch.squeeze(logits), labels)\n",
    "            # In this logistic regression example,\n",
    "            # this entails computing a single gradient\n",
    "            loss.backward()\n",
    "            # Backpropogate the loss through our model\n",
    "            \n",
    "            # Update our coefficients in the direction of the gradient.\n",
    "            optimizer.step()\n",
    "             # For logging\n",
    "            losses.append(loss.item())\n",
    "        \n",
    "        # Estimate the f1 score for the development set\n",
    "        dev_f1 = f1_score(predict(model, dev_features), dev_labels)\n",
    "        print(f\"epoch {i}, loss: {sum(losses)/len(losses)}\")\n",
    "        print(f\"Dev F1 {dev_f1}\")\n",
    "        \n",
    "    # Return the trained model\n",
    "    return model"
   ]
  },
  {
   "cell_type": "markdown",
   "metadata": {},
   "source": [
    "### Task 3.6: Train the classifier (10 Points)\n",
    "\n",
    "Run the following cell to train a logistic regressor on your hand-engineered features."
   ]
  },
  {
   "cell_type": "code",
   "execution_count": null,
   "metadata": {},
   "outputs": [],
   "source": [
    "### DO NOT EDIT ###\n",
    "\n",
    "num_epochs = 100\n",
    "\n",
    "train_features, train_labels_tensor = featurize_data(train_texts, train_labels)\n",
    "train_features = normalize(train_features)\n",
    "dev_features, dev_labels_tensor = featurize_data(dev_texts, dev_labels)\n",
    "dev_features = normalize(dev_features)\n",
    "model = SentimentClassifier(train_features.shape[1]) \n",
    "optimizer = make_optimizer(model, learning_rate=0.01)\n",
    "\n",
    "trained_model = training_loop(\n",
    "    num_epochs,\n",
    "    16,\n",
    "    train_features,\n",
    "    train_labels_tensor,\n",
    "    dev_features,\n",
    "    dev_labels_tensor,\n",
    "    optimizer,\n",
    "    model\n",
    ")"
   ]
  },
  {
   "cell_type": "markdown",
   "metadata": {},
   "source": [
    "### Task 3.7: Get the predictions on the Test Set using the Trained model and print the F1 score (10 Points)"
   ]
  },
  {
   "cell_type": "code",
   "execution_count": null,
   "metadata": {},
   "outputs": [],
   "source": [
    "### DO NOT EDIT ###\n",
    "\n",
    "### DEV SET RESULTS\n",
    "\n",
    "test_features, test_labels = featurize_data(dev_texts, dev_labels)\n",
    "print('Logistic Regression Results:')\n",
    "print('Accuracy:', accuracy(predict(trained_model, test_features), test_labels))\n",
    "print('F1-score', f1_score(predict(trained_model, test_features), test_labels))"
   ]
  },
  {
   "cell_type": "code",
   "execution_count": null,
   "metadata": {},
   "outputs": [],
   "source": [
    "### DO NOT EDIT ###\n",
    "### RUN THIS ONLY ON DEADLINE ###\n",
    "### TEST SET RESULTS\n",
    "\n",
    "test_features, test_labels = featurize_data(test_texts, test_labels)\n",
    "print('Logistic Regression Results:')\n",
    "print('Accuracy:', accuracy(predict(trained_model, test_features), test_labels))\n",
    "print('F1-score', f1_score(predict(trained_model, test_features), test_labels))"
   ]
  },
  {
   "cell_type": "markdown",
   "metadata": {},
   "source": [
    "## Written Assignment (60 Points)"
   ]
  },
  {
   "cell_type": "markdown",
   "metadata": {},
   "source": [
    "Written assignment tests the understanding of the student for the assignment's task. We have split the writing into sections. You will need to write 1-2 paragraphs describing the sections. Please be concise."
   ]
  },
  {
   "cell_type": "markdown",
   "metadata": {},
   "source": [
    "### In your own words, describe what the task is (20 points)"
   ]
  },
  {
   "cell_type": "markdown",
   "metadata": {},
   "source": [
    "Describe the task, how is it useful and an example."
   ]
  },
  {
   "cell_type": "markdown",
   "metadata": {},
   "source": [
    "### Describe your method for the task (10 points)"
   ]
  },
  {
   "cell_type": "markdown",
   "metadata": {},
   "source": [
    "Important details about the implementation. Feature engineering, parameter choice etc."
   ]
  },
  {
   "cell_type": "markdown",
   "metadata": {},
   "source": [
    "### Experiment Results (10 points)"
   ]
  },
  {
   "cell_type": "markdown",
   "metadata": {},
   "source": [
    "Typically a table summarizing all the different experiment results for various parameter choices"
   ]
  },
  {
   "cell_type": "markdown",
   "metadata": {},
   "source": [
    "### Discussion (20 points)"
   ]
  },
  {
   "cell_type": "markdown",
   "metadata": {},
   "source": [
    "Key takeaway from the assignment. Why is the method good? shortcomings? how would you improve? Additional thoughts?"
   ]
  }
 ],
 "metadata": {
  "kernelspec": {
   "display_name": "nlp",
   "language": "python",
   "name": "nlp"
  },
  "language_info": {
   "codemirror_mode": {
    "name": "ipython",
    "version": 3
   },
   "file_extension": ".py",
   "mimetype": "text/x-python",
   "name": "python",
   "nbconvert_exporter": "python",
   "pygments_lexer": "ipython3",
   "version": "3.10.9"
  }
 },
 "nbformat": 4,
 "nbformat_minor": 4
}
